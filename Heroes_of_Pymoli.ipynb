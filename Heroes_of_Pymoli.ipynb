{
 "cells": [
  {
   "cell_type": "code",
   "execution_count": 92,
   "metadata": {},
   "outputs": [
    {
     "data": {
      "text/plain": [
       "Purchase ID      int64\n",
       "SN              object\n",
       "Age              int64\n",
       "Gender          object\n",
       "Item ID          int64\n",
       "Item Name       object\n",
       "Price          float64\n",
       "dtype: object"
      ]
     },
     "execution_count": 92,
     "metadata": {},
     "output_type": "execute_result"
    }
   ],
   "source": [
    "#import pandas and load data\n",
    "import pandas as pd\n",
    "file_to_load = \"Instructions/HeroesOfPymoli/Resources/purchase_data.csv\"\n",
    "data = pd.read_csv(file_to_load)\n",
    "datadf = pd.DataFrame(data)\n",
    "data.head()\n",
    "datadf.dtypes"
   ]
  },
  {
   "cell_type": "code",
   "execution_count": 79,
   "metadata": {},
   "outputs": [
    {
     "data": {
      "text/plain": [
       "576"
      ]
     },
     "execution_count": 79,
     "metadata": {},
     "output_type": "execute_result"
    }
   ],
   "source": [
    "#Total number of players\n",
    "unique_players = data[\"SN\"].unique()\n",
    "total_players = len(unique_players)\n",
    "total_players"
   ]
  },
  {
   "cell_type": "code",
   "execution_count": 80,
   "metadata": {},
   "outputs": [
    {
     "data": {
      "text/html": [
       "<div>\n",
       "<style scoped>\n",
       "    .dataframe tbody tr th:only-of-type {\n",
       "        vertical-align: middle;\n",
       "    }\n",
       "\n",
       "    .dataframe tbody tr th {\n",
       "        vertical-align: top;\n",
       "    }\n",
       "\n",
       "    .dataframe thead th {\n",
       "        text-align: right;\n",
       "    }\n",
       "</style>\n",
       "<table border=\"1\" class=\"dataframe\">\n",
       "  <thead>\n",
       "    <tr style=\"text-align: right;\">\n",
       "      <th></th>\n",
       "      <th>Unique Items</th>\n",
       "      <th>Average Price</th>\n",
       "      <th>Purchases</th>\n",
       "      <th>Total Revenue</th>\n",
       "    </tr>\n",
       "  </thead>\n",
       "  <tbody>\n",
       "    <tr>\n",
       "      <th>0</th>\n",
       "      <td>179</td>\n",
       "      <td>$3.05</td>\n",
       "      <td>780</td>\n",
       "      <td>$2379.77</td>\n",
       "    </tr>\n",
       "  </tbody>\n",
       "</table>\n",
       "</div>"
      ],
      "text/plain": [
       "   Unique Items Average Price  Purchases Total Revenue\n",
       "0           179         $3.05        780      $2379.77"
      ]
     },
     "execution_count": 80,
     "metadata": {},
     "output_type": "execute_result"
    }
   ],
   "source": [
    "#Total purchase analysis\n",
    "data.describe()\n",
    "unique_items = len(data[\"Item Name\"].unique())\n",
    "average_price = round(data[\"Price\"].mean(),2)\n",
    "purchases = len(data)\n",
    "total_revenue = data[\"Price\"].sum()\n",
    "total_purchase_data = {'Unique Items':[unique_items],\n",
    "    'Average Price':\"$\"+str(average_price),\n",
    "    'Purchases':[purchases],\n",
    "    'Total Revenue':\"$\"+str(total_revenue)}\n",
    "total_purchase_data_df = pd.DataFrame(total_purchase_data)\n",
    "total_purchase_data_df"
   ]
  },
  {
   "cell_type": "code",
   "execution_count": 164,
   "metadata": {},
   "outputs": [
    {
     "ename": "SyntaxError",
     "evalue": "invalid syntax (<ipython-input-164-691b405a12be>, line 12)",
     "output_type": "error",
     "traceback": [
      "\u001b[1;36m  File \u001b[1;32m\"<ipython-input-164-691b405a12be>\"\u001b[1;36m, line \u001b[1;32m12\u001b[0m\n\u001b[1;33m    gc[\"% Players\"] = round(gc[\"Players\"]*100/total_players,2))\u001b[0m\n\u001b[1;37m                                                              ^\u001b[0m\n\u001b[1;31mSyntaxError\u001b[0m\u001b[1;31m:\u001b[0m invalid syntax\n"
     ]
    }
   ],
   "source": [
    "#Gender statistics\n",
    "\n",
    "#Create dataframe grouped by player and gender\n",
    "gender_grouping = [\"SN\",\"Gender\"]\n",
    "gg = datadf.groupby(gender_grouping).agg({'SN':'count','Age':'mean','Price':'sum'})\n",
    "gg = gg.rename(columns={'SN':'Purchases'})\n",
    "gg\n",
    "ggf = pd.DataFrame(gg)\n",
    "ggf.head()\n",
    "gc = ggf.groupby([\"Gender\"]).agg({'Purchases':'count'})\n",
    "gc = gc.rename(columns={'Purchases':'Players'})\n",
    "gc[\"% Players\"] = round(gc[\"Players\"]*100/total_players,2))\n",
    "gc\n",
    "#gg.groupby(\"Gender\")\n",
    "#gc.count()"
   ]
  },
  {
   "cell_type": "code",
   "execution_count": 102,
   "metadata": {},
   "outputs": [],
   "source": [
    "#Gender purchase analysis"
   ]
  },
  {
   "cell_type": "code",
   "execution_count": null,
   "metadata": {},
   "outputs": [],
   "source": []
  }
 ],
 "metadata": {
  "kernelspec": {
   "display_name": "Python 3",
   "language": "python",
   "name": "python3"
  },
  "language_info": {
   "codemirror_mode": {
    "name": "ipython",
    "version": 3
   },
   "file_extension": ".py",
   "mimetype": "text/x-python",
   "name": "python",
   "nbconvert_exporter": "python",
   "pygments_lexer": "ipython3",
   "version": "3.7.3"
  }
 },
 "nbformat": 4,
 "nbformat_minor": 2
}
