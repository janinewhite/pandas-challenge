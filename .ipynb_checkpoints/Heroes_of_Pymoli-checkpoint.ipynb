{
 "cells": [
  {
   "cell_type": "code",
   "execution_count": 1,
   "metadata": {},
   "outputs": [
    {
     "data": {
      "text/plain": [
       "Purchase ID      int64\n",
       "SN              object\n",
       "Age              int64\n",
       "Gender          object\n",
       "Item ID          int64\n",
       "Item Name       object\n",
       "Price          float64\n",
       "dtype: object"
      ]
     },
     "execution_count": 1,
     "metadata": {},
     "output_type": "execute_result"
    }
   ],
   "source": [
    "#import pandas and load data\n",
    "import pandas as pd\n",
    "file_to_load = \"Instructions/HeroesOfPymoli/Resources/purchase_data.csv\"\n",
    "data = pd.read_csv(file_to_load)\n",
    "datadf = pd.DataFrame(data)\n",
    "data.head()\n",
    "datadf.dtypes"
   ]
  },
  {
   "cell_type": "code",
   "execution_count": 2,
   "metadata": {},
   "outputs": [
    {
     "data": {
      "text/plain": [
       "576"
      ]
     },
     "execution_count": 2,
     "metadata": {},
     "output_type": "execute_result"
    }
   ],
   "source": [
    "#Total number of players\n",
    "unique_players = data[\"SN\"].unique()\n",
    "total_players = len(unique_players)\n",
    "total_players"
   ]
  },
  {
   "cell_type": "code",
   "execution_count": 10,
   "metadata": {},
   "outputs": [
    {
     "data": {
      "text/html": [
       "<div>\n",
       "<style scoped>\n",
       "    .dataframe tbody tr th:only-of-type {\n",
       "        vertical-align: middle;\n",
       "    }\n",
       "\n",
       "    .dataframe tbody tr th {\n",
       "        vertical-align: top;\n",
       "    }\n",
       "\n",
       "    .dataframe thead th {\n",
       "        text-align: right;\n",
       "    }\n",
       "</style>\n",
       "<table border=\"1\" class=\"dataframe\">\n",
       "  <thead>\n",
       "    <tr style=\"text-align: right;\">\n",
       "      <th></th>\n",
       "      <th>Unique Items</th>\n",
       "      <th>Average Price</th>\n",
       "      <th>Purchases</th>\n",
       "      <th>Total Revenue</th>\n",
       "    </tr>\n",
       "  </thead>\n",
       "  <tbody>\n",
       "    <tr>\n",
       "      <th>0</th>\n",
       "      <td>179</td>\n",
       "      <td>$3.05</td>\n",
       "      <td>780</td>\n",
       "      <td>$2,379.77</td>\n",
       "    </tr>\n",
       "  </tbody>\n",
       "</table>\n",
       "</div>"
      ],
      "text/plain": [
       "   Unique Items Average Price  Purchases Total Revenue\n",
       "0           179         $3.05        780     $2,379.77"
      ]
     },
     "execution_count": 10,
     "metadata": {},
     "output_type": "execute_result"
    }
   ],
   "source": [
    "#Total purchase analysis\n",
    "data.describe()\n",
    "unique_items = len(data[\"Item Name\"].unique())\n",
    "average_price = round(data[\"Price\"].mean(),2)\n",
    "purchases = len(data)\n",
    "total_revenue = data[\"Price\"].sum()\n",
    "total_purchase_data = {'Unique Items':[unique_items],\n",
    "    'Average Price':[average_price],\n",
    "    'Purchases':[purchases],\n",
    "    'Total Revenue':[total_revenue]}\n",
    "total_purchase_data_df = pd.DataFrame(total_purchase_data)\n",
    "total_purchase_data_df[\"Average Price\"] = total_purchase_data_df[\"Average Price\"].astype(float).map('${:,.2f}'.format)\n",
    "total_purchase_data_df[\"Total Revenue\"] = total_purchase_data_df[\"Total Revenue\"].astype(float).map('${:,.2f}'.format)\n",
    "total_purchase_data_df"
   ]
  },
  {
   "cell_type": "code",
   "execution_count": 41,
   "metadata": {},
   "outputs": [
    {
     "data": {
      "text/html": [
       "<div>\n",
       "<style scoped>\n",
       "    .dataframe tbody tr th:only-of-type {\n",
       "        vertical-align: middle;\n",
       "    }\n",
       "\n",
       "    .dataframe tbody tr th {\n",
       "        vertical-align: top;\n",
       "    }\n",
       "\n",
       "    .dataframe thead th {\n",
       "        text-align: right;\n",
       "    }\n",
       "</style>\n",
       "<table border=\"1\" class=\"dataframe\">\n",
       "  <thead>\n",
       "    <tr style=\"text-align: right;\">\n",
       "      <th></th>\n",
       "      <th>Players</th>\n",
       "      <th>% Players</th>\n",
       "    </tr>\n",
       "    <tr>\n",
       "      <th>Gender</th>\n",
       "      <th></th>\n",
       "      <th></th>\n",
       "    </tr>\n",
       "  </thead>\n",
       "  <tbody>\n",
       "    <tr>\n",
       "      <th>Female</th>\n",
       "      <td>81</td>\n",
       "      <td>14.06%</td>\n",
       "    </tr>\n",
       "    <tr>\n",
       "      <th>Male</th>\n",
       "      <td>484</td>\n",
       "      <td>84.03%</td>\n",
       "    </tr>\n",
       "    <tr>\n",
       "      <th>Other / Non-Disclosed</th>\n",
       "      <td>11</td>\n",
       "      <td>1.91%</td>\n",
       "    </tr>\n",
       "  </tbody>\n",
       "</table>\n",
       "</div>"
      ],
      "text/plain": [
       "                       Players % Players\n",
       "Gender                                  \n",
       "Female                      81    14.06%\n",
       "Male                       484    84.03%\n",
       "Other / Non-Disclosed       11     1.91%"
      ]
     },
     "execution_count": 41,
     "metadata": {},
     "output_type": "execute_result"
    }
   ],
   "source": [
    "#Gender statistics\n",
    "\n",
    "#Group by player and gender\n",
    "gender_grouping = [\"SN\",\"Gender\"]\n",
    "gg = datadf.groupby(gender_grouping).agg({'SN':'count','Age':'max','Price':'sum'})\n",
    "gg[\"Age\"] = gg[\"Age\"].astype(int)\n",
    "gg[\"Price\"] = gg[\"Price\"].astype(float)\n",
    "gg = gg.rename(columns={'SN':'Purchases'})\n",
    "gg[\"Purchases\"] = gg[\"Purchases\"].astype(int)\n",
    "#Group by gender\n",
    "gc = gg.groupby([\"Gender\"]).agg({'Purchases':'count'})\n",
    "gc = gc.rename(columns={'Purchases':'Players'})\n",
    "#Add % players column\n",
    "gc[\"% Players\"] = ((gc[\"Players\"]*100.0)/(total_players*1.0)).astype(float).map(\"{:,.2f}%\".format)\n",
    "gc\n"
   ]
  },
  {
   "cell_type": "code",
   "execution_count": 51,
   "metadata": {},
   "outputs": [
    {
     "data": {
      "text/html": [
       "<div>\n",
       "<style scoped>\n",
       "    .dataframe tbody tr th:only-of-type {\n",
       "        vertical-align: middle;\n",
       "    }\n",
       "\n",
       "    .dataframe tbody tr th {\n",
       "        vertical-align: top;\n",
       "    }\n",
       "\n",
       "    .dataframe thead th {\n",
       "        text-align: right;\n",
       "    }\n",
       "</style>\n",
       "<table border=\"1\" class=\"dataframe\">\n",
       "  <thead>\n",
       "    <tr style=\"text-align: right;\">\n",
       "      <th></th>\n",
       "      <th>Purchases</th>\n",
       "      <th>Total Sales</th>\n",
       "      <th>Average Price</th>\n",
       "    </tr>\n",
       "    <tr>\n",
       "      <th>Gender</th>\n",
       "      <th></th>\n",
       "      <th></th>\n",
       "      <th></th>\n",
       "    </tr>\n",
       "  </thead>\n",
       "  <tbody>\n",
       "    <tr>\n",
       "      <th>Female</th>\n",
       "      <td>113</td>\n",
       "      <td>$361.94</td>\n",
       "      <td>$4.47</td>\n",
       "    </tr>\n",
       "    <tr>\n",
       "      <th>Male</th>\n",
       "      <td>652</td>\n",
       "      <td>$1,967.64</td>\n",
       "      <td>$4.07</td>\n",
       "    </tr>\n",
       "    <tr>\n",
       "      <th>Other / Non-Disclosed</th>\n",
       "      <td>15</td>\n",
       "      <td>$50.19</td>\n",
       "      <td>$4.56</td>\n",
       "    </tr>\n",
       "  </tbody>\n",
       "</table>\n",
       "</div>"
      ],
      "text/plain": [
       "                       Purchases Total Sales Average Price\n",
       "Gender                                                    \n",
       "Female                       113     $361.94         $4.47\n",
       "Male                         652   $1,967.64         $4.07\n",
       "Other / Non-Disclosed         15      $50.19         $4.56"
      ]
     },
     "execution_count": 51,
     "metadata": {},
     "output_type": "execute_result"
    }
   ],
   "source": [
    "#Gender purchase analysis\n",
    "gp = pd.DataFrame(gg)\n",
    "gp = gp.groupby([\"Gender\"]).agg({'Purchases':'sum','Price':['sum','mean']})\n",
    "gp.columns = [\"_\".join(x) for x in gp.columns.ravel()]\n",
    "gp = gp.rename(columns={'Purchases_sum':'Purchases','Price_sum':'Total Sales','Price_mean':'Average Price'})\n",
    "gp[\"Total Sales\"] = gp[\"Total Sales\"].astype(float).map(\"${:,.2f}\".format)\n",
    "gp[\"Average Price\"] = gp[\"Average Price\"].astype(float).map(\"${:,.2f}\".format)\n",
    "gp"
   ]
  },
  {
   "cell_type": "code",
   "execution_count": null,
   "metadata": {},
   "outputs": [],
   "source": []
  }
 ],
 "metadata": {
  "kernelspec": {
   "display_name": "Python 3",
   "language": "python",
   "name": "python3"
  },
  "language_info": {
   "codemirror_mode": {
    "name": "ipython",
    "version": 3
   },
   "file_extension": ".py",
   "mimetype": "text/x-python",
   "name": "python",
   "nbconvert_exporter": "python",
   "pygments_lexer": "ipython3",
   "version": "3.7.3"
  }
 },
 "nbformat": 4,
 "nbformat_minor": 2
}
