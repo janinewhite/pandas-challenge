{
 "cells": [
  {
   "cell_type": "code",
   "execution_count": 1,
   "metadata": {
    "ExecuteTime": {
     "end_time": "2019-09-15T21:50:48.422903Z",
     "start_time": "2019-09-15T21:50:47.523485Z"
    }
   },
   "outputs": [
    {
     "data": {
      "text/html": [
       "<div>\n",
       "<style scoped>\n",
       "    .dataframe tbody tr th:only-of-type {\n",
       "        vertical-align: middle;\n",
       "    }\n",
       "\n",
       "    .dataframe tbody tr th {\n",
       "        vertical-align: top;\n",
       "    }\n",
       "\n",
       "    .dataframe thead th {\n",
       "        text-align: right;\n",
       "    }\n",
       "</style>\n",
       "<table border=\"1\" class=\"dataframe\">\n",
       "  <thead>\n",
       "    <tr style=\"text-align: right;\">\n",
       "      <th></th>\n",
       "      <th>Purchase ID</th>\n",
       "      <th>SN</th>\n",
       "      <th>Age</th>\n",
       "      <th>Gender</th>\n",
       "      <th>Item ID</th>\n",
       "      <th>Item Name</th>\n",
       "      <th>Price</th>\n",
       "    </tr>\n",
       "  </thead>\n",
       "  <tbody>\n",
       "    <tr>\n",
       "      <th>0</th>\n",
       "      <td>0</td>\n",
       "      <td>Lisim78</td>\n",
       "      <td>20</td>\n",
       "      <td>Male</td>\n",
       "      <td>108</td>\n",
       "      <td>Extraction, Quickblade Of Trembling Hands</td>\n",
       "      <td>3.53</td>\n",
       "    </tr>\n",
       "    <tr>\n",
       "      <th>1</th>\n",
       "      <td>1</td>\n",
       "      <td>Lisovynya38</td>\n",
       "      <td>40</td>\n",
       "      <td>Male</td>\n",
       "      <td>143</td>\n",
       "      <td>Frenzied Scimitar</td>\n",
       "      <td>1.56</td>\n",
       "    </tr>\n",
       "    <tr>\n",
       "      <th>2</th>\n",
       "      <td>2</td>\n",
       "      <td>Ithergue48</td>\n",
       "      <td>24</td>\n",
       "      <td>Male</td>\n",
       "      <td>92</td>\n",
       "      <td>Final Critic</td>\n",
       "      <td>4.88</td>\n",
       "    </tr>\n",
       "    <tr>\n",
       "      <th>3</th>\n",
       "      <td>3</td>\n",
       "      <td>Chamassasya86</td>\n",
       "      <td>24</td>\n",
       "      <td>Male</td>\n",
       "      <td>100</td>\n",
       "      <td>Blindscythe</td>\n",
       "      <td>3.27</td>\n",
       "    </tr>\n",
       "    <tr>\n",
       "      <th>4</th>\n",
       "      <td>4</td>\n",
       "      <td>Iskosia90</td>\n",
       "      <td>23</td>\n",
       "      <td>Male</td>\n",
       "      <td>131</td>\n",
       "      <td>Fury</td>\n",
       "      <td>1.44</td>\n",
       "    </tr>\n",
       "  </tbody>\n",
       "</table>\n",
       "</div>"
      ],
      "text/plain": [
       "   Purchase ID             SN  Age Gender  Item ID  \\\n",
       "0            0        Lisim78   20   Male      108   \n",
       "1            1    Lisovynya38   40   Male      143   \n",
       "2            2     Ithergue48   24   Male       92   \n",
       "3            3  Chamassasya86   24   Male      100   \n",
       "4            4      Iskosia90   23   Male      131   \n",
       "\n",
       "                                   Item Name  Price  \n",
       "0  Extraction, Quickblade Of Trembling Hands   3.53  \n",
       "1                          Frenzied Scimitar   1.56  \n",
       "2                               Final Critic   4.88  \n",
       "3                                Blindscythe   3.27  \n",
       "4                                       Fury   1.44  "
      ]
     },
     "execution_count": 1,
     "metadata": {},
     "output_type": "execute_result"
    }
   ],
   "source": [
    "import matplotlib.pyplot as plt\n",
    "#import pandas and load data\n",
    "import pandas as pd\n",
    "file_to_load = \"Instructions/HeroesOfPymoli/Resources/purchase_data.csv\"\n",
    "data = pd.read_csv(file_to_load)\n",
    "data.head()\n",
    "#data.describe()\n",
    "#datadf.dtypes"
   ]
  },
  {
   "cell_type": "code",
   "execution_count": 34,
   "metadata": {
    "ExecuteTime": {
     "end_time": "2019-09-15T22:36:11.951932Z",
     "start_time": "2019-09-15T22:36:11.943953Z"
    }
   },
   "outputs": [],
   "source": [
    "#Get age group label for age\n",
    "\n",
    "def get_age_group_label(age):\n",
    "    int_age = int(age)\n",
    "    age_group_label = \"\"\n",
    "    if int_age<10:\n",
    "        age_group_label = \"<10\"\n",
    "    elif int_age<15:\n",
    "        age_group_label = \"10-14\"\n",
    "    elif int_age<20:\n",
    "        age_group_label = \"15-19\"\n",
    "    elif int_age<25:\n",
    "        age_group_label = \"20-24\"\n",
    "    elif int_age<30:\n",
    "        age_group_label = \"25-29\"\n",
    "    elif int_age<35:\n",
    "        age_group_label = \"30-34\"\n",
    "    elif int_age<40:\n",
    "        age_group_label = \"35-39\"\n",
    "    elif int_age<45:\n",
    "        age_group_label = \"40-44\"\n",
    "    elif int_age>=45:\n",
    "        age_group_label = \"45+\"\n",
    "    else:\n",
    "        age_group_label = \"Unknown\"\n",
    "    return age_group_label\n",
    "\n",
    "def get_age_group_order(age):\n",
    "    int_age = int(age)\n",
    "    age_group_order = 0\n",
    "    if int_age<10:\n",
    "        age_group_order = 0\n",
    "    elif int_age<15:\n",
    "        age_group_order = 1\n",
    "    elif int_age<20:\n",
    "        age_group_order = 2\n",
    "    elif int_age<25:\n",
    "        age_group_order = 3\n",
    "    elif int_age<30:\n",
    "        age_group_order = 4\n",
    "    elif int_age<35:\n",
    "        age_group_order = 5\n",
    "    elif int_age<40:\n",
    "        age_group_order = 6\n",
    "    elif int_age<45:\n",
    "        age_group_order = 7\n",
    "    elif int_age>=45:\n",
    "        age_group_order = 8\n",
    "    else:\n",
    "        age_group_order = 9\n",
    "    return age_group_order"
   ]
  },
  {
   "cell_type": "code",
   "execution_count": 35,
   "metadata": {
    "ExecuteTime": {
     "end_time": "2019-09-15T22:36:15.322825Z",
     "start_time": "2019-09-15T22:36:15.311886Z"
    }
   },
   "outputs": [
    {
     "data": {
      "text/html": [
       "<div>\n",
       "<style scoped>\n",
       "    .dataframe tbody tr th:only-of-type {\n",
       "        vertical-align: middle;\n",
       "    }\n",
       "\n",
       "    .dataframe tbody tr th {\n",
       "        vertical-align: top;\n",
       "    }\n",
       "\n",
       "    .dataframe thead th {\n",
       "        text-align: right;\n",
       "    }\n",
       "</style>\n",
       "<table border=\"1\" class=\"dataframe\">\n",
       "  <thead>\n",
       "    <tr style=\"text-align: right;\">\n",
       "      <th></th>\n",
       "      <th>Purchase ID</th>\n",
       "      <th>SN</th>\n",
       "      <th>Age</th>\n",
       "      <th>Gender</th>\n",
       "      <th>Item ID</th>\n",
       "      <th>Item Name</th>\n",
       "      <th>Price</th>\n",
       "      <th>Age Group</th>\n",
       "      <th>Age Group Order</th>\n",
       "    </tr>\n",
       "  </thead>\n",
       "  <tbody>\n",
       "    <tr>\n",
       "      <th>0</th>\n",
       "      <td>0</td>\n",
       "      <td>Lisim78</td>\n",
       "      <td>20</td>\n",
       "      <td>Male</td>\n",
       "      <td>108</td>\n",
       "      <td>Extraction, Quickblade Of Trembling Hands</td>\n",
       "      <td>3.53</td>\n",
       "      <td>20-24</td>\n",
       "      <td>3</td>\n",
       "    </tr>\n",
       "    <tr>\n",
       "      <th>1</th>\n",
       "      <td>1</td>\n",
       "      <td>Lisovynya38</td>\n",
       "      <td>40</td>\n",
       "      <td>Male</td>\n",
       "      <td>143</td>\n",
       "      <td>Frenzied Scimitar</td>\n",
       "      <td>1.56</td>\n",
       "      <td>40-44</td>\n",
       "      <td>7</td>\n",
       "    </tr>\n",
       "    <tr>\n",
       "      <th>2</th>\n",
       "      <td>2</td>\n",
       "      <td>Ithergue48</td>\n",
       "      <td>24</td>\n",
       "      <td>Male</td>\n",
       "      <td>92</td>\n",
       "      <td>Final Critic</td>\n",
       "      <td>4.88</td>\n",
       "      <td>20-24</td>\n",
       "      <td>3</td>\n",
       "    </tr>\n",
       "    <tr>\n",
       "      <th>3</th>\n",
       "      <td>3</td>\n",
       "      <td>Chamassasya86</td>\n",
       "      <td>24</td>\n",
       "      <td>Male</td>\n",
       "      <td>100</td>\n",
       "      <td>Blindscythe</td>\n",
       "      <td>3.27</td>\n",
       "      <td>20-24</td>\n",
       "      <td>3</td>\n",
       "    </tr>\n",
       "    <tr>\n",
       "      <th>4</th>\n",
       "      <td>4</td>\n",
       "      <td>Iskosia90</td>\n",
       "      <td>23</td>\n",
       "      <td>Male</td>\n",
       "      <td>131</td>\n",
       "      <td>Fury</td>\n",
       "      <td>1.44</td>\n",
       "      <td>20-24</td>\n",
       "      <td>3</td>\n",
       "    </tr>\n",
       "  </tbody>\n",
       "</table>\n",
       "</div>"
      ],
      "text/plain": [
       "   Purchase ID             SN  Age Gender  Item ID  \\\n",
       "0            0        Lisim78   20   Male      108   \n",
       "1            1    Lisovynya38   40   Male      143   \n",
       "2            2     Ithergue48   24   Male       92   \n",
       "3            3  Chamassasya86   24   Male      100   \n",
       "4            4      Iskosia90   23   Male      131   \n",
       "\n",
       "                                   Item Name  Price Age Group  Age Group Order  \n",
       "0  Extraction, Quickblade Of Trembling Hands   3.53     20-24                3  \n",
       "1                          Frenzied Scimitar   1.56     40-44                7  \n",
       "2                               Final Critic   4.88     20-24                3  \n",
       "3                                Blindscythe   3.27     20-24                3  \n",
       "4                                       Fury   1.44     20-24                3  "
      ]
     },
     "execution_count": 35,
     "metadata": {},
     "output_type": "execute_result"
    }
   ],
   "source": [
    "#Add Age Group and Age Group Order columns\n",
    "data[\"Age Group\"] = data[\"Age\"].apply(get_age_group_label)\n",
    "data[\"Age Group Order\"] = data[\"Age\"].apply(get_age_group_order)\n",
    "datadf = pd.DataFrame(data)\n",
    "datadf.head()"
   ]
  },
  {
   "cell_type": "code",
   "execution_count": 6,
   "metadata": {
    "ExecuteTime": {
     "end_time": "2019-09-15T21:51:17.632516Z",
     "start_time": "2019-09-15T21:51:17.627761Z"
    }
   },
   "outputs": [
    {
     "data": {
      "text/plain": [
       "576"
      ]
     },
     "execution_count": 6,
     "metadata": {},
     "output_type": "execute_result"
    }
   ],
   "source": [
    "#Total number of players\n",
    "unique_players = data[\"SN\"].unique()\n",
    "total_players = len(unique_players)\n",
    "total_players"
   ]
  },
  {
   "cell_type": "code",
   "execution_count": 7,
   "metadata": {
    "ExecuteTime": {
     "end_time": "2019-09-15T21:51:20.103361Z",
     "start_time": "2019-09-15T21:51:20.091393Z"
    }
   },
   "outputs": [
    {
     "data": {
      "text/html": [
       "<div>\n",
       "<style scoped>\n",
       "    .dataframe tbody tr th:only-of-type {\n",
       "        vertical-align: middle;\n",
       "    }\n",
       "\n",
       "    .dataframe tbody tr th {\n",
       "        vertical-align: top;\n",
       "    }\n",
       "\n",
       "    .dataframe thead th {\n",
       "        text-align: right;\n",
       "    }\n",
       "</style>\n",
       "<table border=\"1\" class=\"dataframe\">\n",
       "  <thead>\n",
       "    <tr style=\"text-align: right;\">\n",
       "      <th></th>\n",
       "      <th>Unique Items</th>\n",
       "      <th>Average Price</th>\n",
       "      <th>Purchases</th>\n",
       "      <th>Total Revenue</th>\n",
       "    </tr>\n",
       "  </thead>\n",
       "  <tbody>\n",
       "    <tr>\n",
       "      <th>0</th>\n",
       "      <td>179</td>\n",
       "      <td>$3.05</td>\n",
       "      <td>780</td>\n",
       "      <td>$2,379.77</td>\n",
       "    </tr>\n",
       "  </tbody>\n",
       "</table>\n",
       "</div>"
      ],
      "text/plain": [
       "   Unique Items Average Price  Purchases Total Revenue\n",
       "0           179         $3.05        780     $2,379.77"
      ]
     },
     "execution_count": 7,
     "metadata": {},
     "output_type": "execute_result"
    }
   ],
   "source": [
    "#Total purchase analysis\n",
    "unique_items = len(data[\"Item Name\"].unique())\n",
    "average_price = round(data[\"Price\"].mean(),2)\n",
    "purchases = len(data)\n",
    "total_revenue = data[\"Price\"].sum()\n",
    "total_purchase_data = {'Unique Items':[unique_items],\n",
    "    'Average Price':[average_price],\n",
    "    'Purchases':[purchases],\n",
    "    'Total Revenue':[total_revenue]}\n",
    "total_purchase_data_df = pd.DataFrame(total_purchase_data)\n",
    "total_purchase_data_df[\"Average Price\"] = total_purchase_data_df[\"Average Price\"].astype(float).map('${:,.2f}'.format)\n",
    "total_purchase_data_df[\"Total Revenue\"] = total_purchase_data_df[\"Total Revenue\"].astype(float).map('${:,.2f}'.format)\n",
    "total_purchase_data_df"
   ]
  },
  {
   "cell_type": "code",
   "execution_count": 8,
   "metadata": {
    "ExecuteTime": {
     "end_time": "2019-09-15T21:51:21.995067Z",
     "start_time": "2019-09-15T21:51:21.955632Z"
    }
   },
   "outputs": [
    {
     "data": {
      "text/html": [
       "<div>\n",
       "<style scoped>\n",
       "    .dataframe tbody tr th:only-of-type {\n",
       "        vertical-align: middle;\n",
       "    }\n",
       "\n",
       "    .dataframe tbody tr th {\n",
       "        vertical-align: top;\n",
       "    }\n",
       "\n",
       "    .dataframe thead th {\n",
       "        text-align: right;\n",
       "    }\n",
       "</style>\n",
       "<table border=\"1\" class=\"dataframe\">\n",
       "  <thead>\n",
       "    <tr style=\"text-align: right;\">\n",
       "      <th></th>\n",
       "      <th>Players</th>\n",
       "      <th>Average Age</th>\n",
       "      <th>% Players</th>\n",
       "    </tr>\n",
       "    <tr>\n",
       "      <th>Gender</th>\n",
       "      <th></th>\n",
       "      <th></th>\n",
       "      <th></th>\n",
       "    </tr>\n",
       "  </thead>\n",
       "  <tbody>\n",
       "    <tr>\n",
       "      <th>Female</th>\n",
       "      <td>81</td>\n",
       "      <td>21.3</td>\n",
       "      <td>14.06%</td>\n",
       "    </tr>\n",
       "    <tr>\n",
       "      <th>Male</th>\n",
       "      <td>484</td>\n",
       "      <td>23.0</td>\n",
       "      <td>84.03%</td>\n",
       "    </tr>\n",
       "    <tr>\n",
       "      <th>Other / Non-Disclosed</th>\n",
       "      <td>11</td>\n",
       "      <td>22.3</td>\n",
       "      <td>1.91%</td>\n",
       "    </tr>\n",
       "  </tbody>\n",
       "</table>\n",
       "</div>"
      ],
      "text/plain": [
       "                       Players Average Age % Players\n",
       "Gender                                              \n",
       "Female                      81        21.3    14.06%\n",
       "Male                       484        23.0    84.03%\n",
       "Other / Non-Disclosed       11        22.3     1.91%"
      ]
     },
     "execution_count": 8,
     "metadata": {},
     "output_type": "execute_result"
    }
   ],
   "source": [
    "#Gender statistics\n",
    "\n",
    "#Group by player and gender\n",
    "gender_grouping = [\"SN\",\"Gender\"]\n",
    "gdf = datadf.copy()\n",
    "gg = gdf.groupby(gender_grouping).agg({'SN':'count','Age':'mean','Price':'sum'})\n",
    "gg = gg.rename(columns={'SN':'Purchases'})\n",
    "gg[\"Purchases\"] = gg[\"Purchases\"].astype(int)\n",
    "gg[\"Age\"] = gg[\"Age\"].astype(float)\n",
    "gg[\"Price\"] = gg[\"Price\"].astype(float)\n",
    "#Group by gender\n",
    "gc = gg.groupby([\"Gender\"]).agg({'Purchases':'count','Age':'mean'})\n",
    "gc = gc.rename(columns={'Purchases':'Players','Age':'Average Age'})\n",
    "gc[\"Average Age\"] = gc[\"Average Age\"].astype(float).map(\"{:,.1f}\".format)\n",
    "#Add % players column\n",
    "gc[\"% Players\"] = ((gc[\"Players\"]*100.0)/(total_players*1.0)).astype(float).map(\"{:,.2f}%\".format)\n",
    "gc"
   ]
  },
  {
   "cell_type": "code",
   "execution_count": 9,
   "metadata": {
    "ExecuteTime": {
     "end_time": "2019-09-15T21:51:24.235294Z",
     "start_time": "2019-09-15T21:51:24.220334Z"
    }
   },
   "outputs": [],
   "source": [
    "#Gender Purchase Analysis\n",
    "gp = pd.DataFrame(gg)\n",
    "gp = gp.groupby([\"Gender\"]).agg({'Purchases':['sum','count'],'Price':['sum','mean'],})\n",
    "gp.columns = [\"_\".join(x) for x in gp.columns.ravel()]\n",
    "gp = gp.rename(columns={'Purchases_sum':'Purchases','Purchases_count':'Players','Price_sum':'Total Sales','Price_mean':'Average Total Sale per Person'})\n",
    "gp[\"Average Purchase Price\"] = (gp[\"Total Sales\"]/(gp[\"Purchases\"]*1.0)).astype(float)\n",
    "gp[\"Purchases\"] = gp[\"Purchases\"].astype(int)\n",
    "gp[\"Total Sales\"] = gp[\"Total Sales\"].astype(float)\n",
    "gp[\"Average Total Sale per Person\"] = gp[\"Average Total Sale per Person\"].astype(float)"
   ]
  },
  {
   "cell_type": "code",
   "execution_count": 10,
   "metadata": {
    "ExecuteTime": {
     "end_time": "2019-09-15T21:51:26.442189Z",
     "start_time": "2019-09-15T21:51:26.195813Z"
    }
   },
   "outputs": [
    {
     "data": {
      "text/plain": [
       "<matplotlib.axes._subplots.AxesSubplot at 0x28714dfd240>"
      ]
     },
     "execution_count": 10,
     "metadata": {},
     "output_type": "execute_result"
    },
    {
     "data": {
      "image/png": "[encoded data removed]",
      "text/plain": [
       "<Figure size 432x288 with 2 Axes>"
      ]
     },
     "metadata": {
      "needs_background": "light"
     },
     "output_type": "display_data"
    }
   ],
   "source": [
    "#Gender Purchase Charts\n",
    "fig = plt.figure()\n",
    "ax = fig.add_subplot(131)\n",
    "gp_int = gp.loc[:,['Purchases','Players']]\n",
    "gp_int.plot(kind='bar',color=[\"red\",\"black\"],ax=ax)\n",
    "ax2 = fig.add_subplot(133)\n",
    "gp_price = gp.loc[:,['Average Purchase Price','Average Total Sale per Person']]\n",
    "gp_price.plot(kind='bar',ax=ax2)"
   ]
  },
  {
   "cell_type": "code",
   "execution_count": 11,
   "metadata": {
    "ExecuteTime": {
     "end_time": "2019-09-15T21:51:31.204732Z",
     "start_time": "2019-09-15T21:51:31.191759Z"
    }
   },
   "outputs": [
    {
     "data": {
      "text/html": [
       "<div>\n",
       "<style scoped>\n",
       "    .dataframe tbody tr th:only-of-type {\n",
       "        vertical-align: middle;\n",
       "    }\n",
       "\n",
       "    .dataframe tbody tr th {\n",
       "        vertical-align: top;\n",
       "    }\n",
       "\n",
       "    .dataframe thead th {\n",
       "        text-align: right;\n",
       "    }\n",
       "</style>\n",
       "<table border=\"1\" class=\"dataframe\">\n",
       "  <thead>\n",
       "    <tr style=\"text-align: right;\">\n",
       "      <th></th>\n",
       "      <th>Purchases</th>\n",
       "      <th>Total Sales</th>\n",
       "      <th>Average Purchase Price</th>\n",
       "      <th>Average Total Sale per Person</th>\n",
       "    </tr>\n",
       "    <tr>\n",
       "      <th>Gender</th>\n",
       "      <th></th>\n",
       "      <th></th>\n",
       "      <th></th>\n",
       "      <th></th>\n",
       "    </tr>\n",
       "  </thead>\n",
       "  <tbody>\n",
       "    <tr>\n",
       "      <th>Female</th>\n",
       "      <td>113</td>\n",
       "      <td>$361.94</td>\n",
       "      <td>$3.20</td>\n",
       "      <td>$4.47</td>\n",
       "    </tr>\n",
       "    <tr>\n",
       "      <th>Male</th>\n",
       "      <td>652</td>\n",
       "      <td>$1,967.64</td>\n",
       "      <td>$3.02</td>\n",
       "      <td>$4.07</td>\n",
       "    </tr>\n",
       "    <tr>\n",
       "      <th>Other / Non-Disclosed</th>\n",
       "      <td>15</td>\n",
       "      <td>$50.19</td>\n",
       "      <td>$3.35</td>\n",
       "      <td>$4.56</td>\n",
       "    </tr>\n",
       "  </tbody>\n",
       "</table>\n",
       "</div>"
      ],
      "text/plain": [
       "                       Purchases Total Sales Average Purchase Price  \\\n",
       "Gender                                                                \n",
       "Female                       113     $361.94                  $3.20   \n",
       "Male                         652   $1,967.64                  $3.02   \n",
       "Other / Non-Disclosed         15      $50.19                  $3.35   \n",
       "\n",
       "                      Average Total Sale per Person  \n",
       "Gender                                               \n",
       "Female                                        $4.47  \n",
       "Male                                          $4.07  \n",
       "Other / Non-Disclosed                         $4.56  "
      ]
     },
     "execution_count": 11,
     "metadata": {},
     "output_type": "execute_result"
    }
   ],
   "source": [
    "#Gender Purchase Text \n",
    "gp[\"Average Purchase Price\"] = (gp[\"Total Sales\"]/(gp[\"Purchases\"]*1.0)).astype(float).map(\"${:,.2f}\".format)\n",
    "gp[\"Purchases\"] = gp[\"Purchases\"].astype(int)\n",
    "gp[\"Total Sales\"] = gp[\"Total Sales\"].astype(float).map(\"${:,.2f}\".format)\n",
    "gp[\"Average Total Sale per Person\"] = gp[\"Average Total Sale per Person\"].astype(float).map(\"${:,.2f}\".format)\n",
    "gpa = gp.loc[:,[\"Purchases\",\"Total Sales\",\"Average Purchase Price\",\"Average Total Sale per Person\"]]\n",
    "gpa"
   ]
  },
  {
   "cell_type": "code",
   "execution_count": 16,
   "metadata": {
    "ExecuteTime": {
     "end_time": "2019-09-15T21:54:25.912646Z",
     "start_time": "2019-09-15T21:54:25.904096Z"
    }
   },
   "outputs": [],
   "source": [
    "#Age Demographics\n",
    "\n",
    "#Tried bins and received AttributeError: 'DataFrame' object has no attribute 'cut'\n",
    "\n",
    "#bins=[0,10,15,20,25,30,35,40,120]\n",
    "#group_names = [\"<10\",\"10-14\",\"15-19\",\"20-24\",\"25-29\",\"30-34\",\"35-39\",\"40+\"]\n",
    "#ad[\"Age Group\"] = ad.cut(ad[\"Age\"], bins, labels=group_names)\n",
    "\n",
    "#Group by player and age group\n",
    "age_grouping = [\"SN\",\"Age Group\"]\n",
    "adf = datadf.copy()\n",
    "adf[\"Age Group\"] = adf[\"Age Group\"].astype(str)\n",
    "ad = adf.groupby(age_grouping).agg({'SN':'count','Price':'sum'})\n",
    "ad = ad.rename(columns={\"SN\":\"Purchases\"})"
   ]
  },
  {
   "cell_type": "code",
   "execution_count": 17,
   "metadata": {
    "ExecuteTime": {
     "end_time": "2019-09-15T21:54:27.656256Z",
     "start_time": "2019-09-15T21:54:27.644288Z"
    }
   },
   "outputs": [
    {
     "data": {
      "text/html": [
       "<div>\n",
       "<style scoped>\n",
       "    .dataframe tbody tr th:only-of-type {\n",
       "        vertical-align: middle;\n",
       "    }\n",
       "\n",
       "    .dataframe tbody tr th {\n",
       "        vertical-align: top;\n",
       "    }\n",
       "\n",
       "    .dataframe thead th {\n",
       "        text-align: right;\n",
       "    }\n",
       "</style>\n",
       "<table border=\"1\" class=\"dataframe\">\n",
       "  <thead>\n",
       "    <tr style=\"text-align: right;\">\n",
       "      <th></th>\n",
       "      <th>Players</th>\n",
       "      <th>% Players</th>\n",
       "    </tr>\n",
       "    <tr>\n",
       "      <th>Age Group</th>\n",
       "      <th></th>\n",
       "      <th></th>\n",
       "    </tr>\n",
       "  </thead>\n",
       "  <tbody>\n",
       "    <tr>\n",
       "      <th>10-14</th>\n",
       "      <td>22</td>\n",
       "      <td>3.82%</td>\n",
       "    </tr>\n",
       "    <tr>\n",
       "      <th>15-19</th>\n",
       "      <td>107</td>\n",
       "      <td>18.58%</td>\n",
       "    </tr>\n",
       "    <tr>\n",
       "      <th>20-24</th>\n",
       "      <td>258</td>\n",
       "      <td>44.79%</td>\n",
       "    </tr>\n",
       "    <tr>\n",
       "      <th>25-29</th>\n",
       "      <td>77</td>\n",
       "      <td>13.37%</td>\n",
       "    </tr>\n",
       "    <tr>\n",
       "      <th>30-34</th>\n",
       "      <td>52</td>\n",
       "      <td>9.03%</td>\n",
       "    </tr>\n",
       "    <tr>\n",
       "      <th>35-39</th>\n",
       "      <td>31</td>\n",
       "      <td>5.38%</td>\n",
       "    </tr>\n",
       "    <tr>\n",
       "      <th>40-44</th>\n",
       "      <td>11</td>\n",
       "      <td>1.91%</td>\n",
       "    </tr>\n",
       "    <tr>\n",
       "      <th>45+</th>\n",
       "      <td>1</td>\n",
       "      <td>0.17%</td>\n",
       "    </tr>\n",
       "    <tr>\n",
       "      <th>&lt;10</th>\n",
       "      <td>17</td>\n",
       "      <td>2.95%</td>\n",
       "    </tr>\n",
       "  </tbody>\n",
       "</table>\n",
       "</div>"
      ],
      "text/plain": [
       "           Players % Players\n",
       "Age Group                   \n",
       "10-14           22     3.82%\n",
       "15-19          107    18.58%\n",
       "20-24          258    44.79%\n",
       "25-29           77    13.37%\n",
       "30-34           52     9.03%\n",
       "35-39           31     5.38%\n",
       "40-44           11     1.91%\n",
       "45+              1     0.17%\n",
       "<10             17     2.95%"
      ]
     },
     "execution_count": 17,
     "metadata": {},
     "output_type": "execute_result"
    }
   ],
   "source": [
    "ad[\"Purchases\"] = ad[\"Purchases\"].astype(int)\n",
    "#Group by age group\n",
    "ac = ad.groupby([\"Age Group\"]).agg({'Purchases':'count'})\n",
    "ac = ac.rename(columns={'Purchases':'Players'})\n",
    "#Add % players column\n",
    "ac[\"% Players\"] = ((ac[\"Players\"]*100.0)/(total_players*1.0)).astype(float).map(\"{:,.2f}%\".format)\n",
    "ac"
   ]
  },
  {
   "cell_type": "code",
   "execution_count": null,
   "metadata": {},
   "outputs": [],
   "source": []
  }
 ],
 "metadata": {
  "kernelspec": {
   "display_name": "Python 3",
   "language": "python",
   "name": "python3"
  },
  "language_info": {
   "codemirror_mode": {
    "name": "ipython",
    "version": 3
   },
   "file_extension": ".py",
   "mimetype": "text/x-python",
   "name": "python",
   "nbconvert_exporter": "python",
   "pygments_lexer": "ipython3",
   "version": "3.7.3"
  },
  "varInspector": {
   "cols": {
    "lenName": 16,
    "lenType": 16,
    "lenVar": 40
   },
   "kernels_config": {
    "python": {
     "delete_cmd_postfix": "",
     "delete_cmd_prefix": "del ",
     "library": "var_list.py",
     "varRefreshCmd": "print(var_dic_list())"
    },
    "r": {
     "delete_cmd_postfix": ") ",
     "delete_cmd_prefix": "rm(",
     "library": "var_list.r",
     "varRefreshCmd": "cat(var_dic_list()) "
    }
   },
   "position": {
    "height": "840.4px",
    "left": "1619.6px",
    "right": "20px",
    "top": "104px",
    "width": "355.4px"
   },
   "types_to_exclude": [
    "module",
    "function",
    "builtin_function_or_method",
    "instance",
    "_Feature"
   ],
   "window_display": true
  }
 },
 "nbformat": 4,
 "nbformat_minor": 2
}
